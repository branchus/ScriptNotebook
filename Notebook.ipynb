{
 "cells": [
  {
   "cell_type": "code",
   "execution_count": null,
   "metadata": {},
   "outputs": [],
   "source": [
    "# Clean Conda/Mamba pkgs folder in windows (don't do this in Linux or Mac, As the env are linked to here)\n",
    "# conda clean --force-pkgs-dirs\n",
    "# mamba clean --force-pkgs-dirs\n",
    "import numpy as np\n",
    "import matplotlib.pyplot as plt\n",
    "import pandas as pd\n",
    "import seaborn as sns\n",
    "import statsmodels as sm\n",
    "import datetime as dt\n"
   ]
  },
  {
   "cell_type": "code",
   "execution_count": null,
   "metadata": {},
   "outputs": [],
   "source": [
    "a = 'hello'\n",
    "isinstance(a, (int, float))\n",
    "date = dt.date(2023,11,5)\n",
    "print(date.month)"
   ]
  },
  {
   "cell_type": "code",
   "execution_count": null,
   "metadata": {},
   "outputs": [],
   "source": [
    "# Verify Pytorch GPU support\n",
    "import torch\n",
    "x = torch.rand(5, 3)\n",
    "print(x)\n",
    "\n",
    "# CUDA - generally for Windows and Linux\n",
    "is_cuda_available = torch.cuda.is_available()\n",
    "print(f'Is CUDA Available (Windows & Linux): {is_cuda_available}')\n",
    "\n",
    "# MPS - generally for Mac\n",
    "is_mps_available = torch.backends.mps.is_available()\n",
    "print(f'Is MPS Available (MacOS): {is_mps_available}')\n"
   ]
  },
  {
   "cell_type": "code",
   "execution_count": null,
   "metadata": {},
   "outputs": [],
   "source": [
    "import openpyxl\n",
    "\n",
    "wb = openpyxl.load_workbook('Templates/Book2.xlsx', data_only= True)\n",
    "ws = wb['Sheet1']\n",
    "\n",
    "for row in range(2,5):\n",
    "\tstr_value = str(ws.cell(row, 1).value)\n",
    "\tws.cell(row, 2, str_value)\n",
    "\n",
    "wb.save('Templates/Book3.xlsx')"
   ]
  }
 ],
 "metadata": {
  "kernelspec": {
   "display_name": "data",
   "language": "python",
   "name": "python3"
  },
  "language_info": {
   "codemirror_mode": {
    "name": "ipython",
    "version": 3
   },
   "file_extension": ".py",
   "mimetype": "text/x-python",
   "name": "python",
   "nbconvert_exporter": "python",
   "pygments_lexer": "ipython3",
   "version": "3.11.7"
  },
  "orig_nbformat": 4,
  "vscode": {
   "interpreter": {
    "hash": "828bddb5101679f3959fb406085c9467e5aba72c0a4646305edc0b5721b2e288"
   }
  }
 },
 "nbformat": 4,
 "nbformat_minor": 2
}
