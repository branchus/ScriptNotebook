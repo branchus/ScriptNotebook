{
 "cells": [
  {
   "attachments": {},
   "cell_type": "markdown",
   "metadata": {},
   "source": [
    "# Python Basics"
   ]
  },
  {
   "cell_type": "code",
   "execution_count": null,
   "metadata": {},
   "outputs": [],
   "source": [
    "# string variable can be enclosed in \"\" or ''\n",
    "s1 = \"this is\"\n",
    "s2 = 'a \"string\"'\n",
    "print(s1) # this is\n",
    "print(s2) # a \"string\"\n",
    "print(s2.capitalize()) # A \"string\"\n",
    "print(s1.title()) # This Is\n",
    "print(s1.upper()) # THIS IS\n",
    "\n",
    "s3 = f\"{s1} {s2}\"\n",
    "print(s3) # this is a \"string\"\n",
    "print(f\"Hello {s3.capitalize()}\") # Hello This is a \"string\"\n",
    "\n",
    "# stripping whitespace\n",
    "ss = '  Hello World!!    '\n",
    "print(ss)\n",
    "print(ss.rstrip()) # strip right\n",
    "print(ss.lstrip()) # strip left\n",
    "print(ss.strip()) # strip both sides"
   ]
  },
  {
   "cell_type": "code",
   "execution_count": null,
   "metadata": {},
   "outputs": [],
   "source": [
    "# List - List is enclosed in []\n",
    "emptyList = []\n",
    "bicycles = ['trek', 'cannondale', \"redline\", 'specialized']\n",
    "print(bicycles)\n",
    "print(bicycles[0])\n",
    "print(bicycles[0].title())\n",
    "print(bicycles[-1]) # last item in the list\n",
    "\n",
    "# modify elements\n",
    "bicycles[0] = 'honda'\n",
    "print(bicycles)\n",
    "\n",
    "# adding elements\n",
    "bicycles.append('yamaha')\n",
    "print(bicycles)\n",
    "\n",
    "# insert elements\n",
    "bicycles.insert(1, 'ducati')\n",
    "print(bicycles)\n",
    "\n",
    "# removing elements\n",
    "bicycles.remove('ducati') # removed ducati - only remove first occurrence of the value\n",
    "del bicycles[1] # removed cannondale\n",
    "popped_bicycle = bicycles.pop() # removed yamaha\n",
    "popped_bicycle = bicycles.pop(1) # removed redline\n",
    "print(bicycles)\n",
    "\n",
    "# sorting a list\n",
    "cars = ['bmw', 'audi', 'toyota', 'subaru']\n",
    "cars.reverse() # no sorting, only reverse order\n",
    "print(cars)\n",
    "print(sorted(cars)) # temporary sorting, cars not changed\n",
    "print(cars) # print to confirm the cars still in its original order\n",
    "cars.sort() # permanentaly sorting\n",
    "print(cars)\n",
    "\n",
    "# find length of a list\n",
    "print(len(cars))\n",
    "\n",
    "# using range() to make a list\n",
    "numbers = list(range(1,4))\n",
    "print(numbers)\n",
    "\n",
    "# slicing list\n",
    "print(cars[0:3])\n",
    "print(cars[:3]) # same as above\n",
    "print(cars[1:]) # from index 1 to end of list\n",
    "\n",
    "# copy a list\n",
    "myCar = cars[:] # ask for a slice, then assign it to myCar (copy a list)\n",
    "print(myCar)"
   ]
  },
  {
   "cell_type": "code",
   "execution_count": null,
   "metadata": {},
   "outputs": [],
   "source": [
    "# Tuples - a list that cannot change values - normally enclosed in ()\n",
    "tup = 'element1', 'element2', 'element3' # This is a valid tuples, but normally enclosed in ()\n",
    "tup = () # empty tuples, using () instead of []\n",
    "tup = (200, 500) # Although value cannot be changed, a new tuple can be assigned to the same variable"
   ]
  },
  {
   "cell_type": "code",
   "execution_count": null,
   "metadata": {},
   "outputs": [],
   "source": [
    "# if statement\n",
    "age = 12\n",
    "if age == 3:\n",
    "    print(f\"age is 3\")\n",
    "elif age != 12:\n",
    "    print(f\"age is not {age}\")\n",
    "elif age >= 4 and age <= 8: # use word or for ||\n",
    "    print(\"age is between 4 and 8\")\n",
    "else:\n",
    "    print(f\"age is {age}\")"
   ]
  },
  {
   "cell_type": "code",
   "execution_count": null,
   "metadata": {},
   "outputs": [],
   "source": [
    "# Loop\n",
    "cars = ['bmw', 'audi', 'toyota', 'subaru']\n",
    "for car in cars:\n",
    "    print(car)\n",
    "\n",
    "for car in cars[:3]:\n",
    "    print(car) # print item at index 0, 1, 2\n",
    "\n",
    "for i, car in enumerate(cars):\n",
    "    print(i, car) # it returns a sequence of (index, element) tuples, by default, index starts at zero\n",
    "\n",
    "for value in range(1,3): # 1 and 2, 3 is not included\n",
    "    print(value)\n",
    "\n",
    "squares = [value**2 for value in range(1,11)]\n",
    "print(squares)\n",
    "print(min(squares))\n",
    "print(max(squares))\n",
    "print(sum(squares))\n",
    "\n",
    "# When loop through it is possible to get key and the value at the same time by using items() method\n",
    "exchange_rates = {  \"EURUSD\": 1.1152,\n",
    "                    \"GBPUSD\": 1.2454,\n",
    "                    \"AUDUSD\": 0.6161}\n",
    "\n",
    "for currency_pair, exchange_rate in exchange_rates.items():\n",
    "    print(currency_pair, exchange_rate)\n",
    "\n",
    "# use continue to skip the remainder of a loop and go to next iteration or \n",
    "# use break to get out of the loop same as other language\n",
    "\n",
    "# While loop\n",
    "n = 0\n",
    "while n <= 2:\n",
    "    print(n)\n",
    "    n += 1"
   ]
  },
  {
   "cell_type": "code",
   "execution_count": null,
   "metadata": {},
   "outputs": [],
   "source": [
    "# Dictionary / hashmap - enclosed in {}\n"
   ]
  },
  {
   "cell_type": "code",
   "execution_count": null,
   "metadata": {},
   "outputs": [],
   "source": [
    "# Sets - use them for set sheory operations, also useful to get unique values of a list or tuple\n",
    "# Create sets by using curly braces:\n",
    "s = set([\"USD\", \"USD\", \"SGD\", \"EUR\", \"USD\", \"EUR\"])\n",
    "print(f'set: {s}')\n",
    "\n",
    "portfolio1 = {\"USD\", \"EUR\", \"SGD\", \"CHF\"}\n",
    "portfolio2 = {\"EUR\", \"SGD\", \"CAD\"}\n",
    "\n",
    "s = portfolio1.union(portfolio2)\n",
    "print(f'union: {s}')\n",
    "\n",
    "s = portfolio1.intersection(portfolio2)\n",
    "print(f'intersection: {s}')"
   ]
  }
 ],
 "metadata": {
  "kernelspec": {
   "display_name": "data",
   "language": "python",
   "name": "python3"
  },
  "language_info": {
   "codemirror_mode": {
    "name": "ipython",
    "version": 3
   },
   "file_extension": ".py",
   "mimetype": "text/x-python",
   "name": "python",
   "nbconvert_exporter": "python",
   "pygments_lexer": "ipython3",
   "version": "3.11.6"
  },
  "orig_nbformat": 4
 },
 "nbformat": 4,
 "nbformat_minor": 2
}
