{
 "cells": [
  {
   "cell_type": "code",
   "execution_count": null,
   "metadata": {},
   "outputs": [],
   "source": [
    "import numpy as np"
   ]
  },
  {
   "cell_type": "code",
   "execution_count": null,
   "metadata": {},
   "outputs": [],
   "source": [
    "array1 = np.array([10, 100, 1000.])\n",
    "array2 = np.array([\t[1., 2., 3.],\n",
    "\t\t\t\t\t[4., 5., 6.]])\n",
    "\n",
    "print(f'The data type in the numpy array is: {array1.dtype}')  # Print out the data type\n",
    "\n",
    "print(f'array vectorization - plus: {array2 + 1}')\n",
    "print(f'array vectorization - scalar: {array2 * array2}')\n",
    "\n",
    "print(f'sum the columns: {array2.sum(axis=0)}')  # asix=0 sum the columns\n",
    "print(f'sum the rows: {array2.sum(axis=1)}')  # asix=1 sum the rows\n",
    "print(f'grand total: {array2.sum()}')  #s sum the total\n",
    "\n",
    "print(f'ufuncs sqrt: {np.sqrt(array2)}')  #s sum the total\n",
    "\n",
    "# Difference between python 2D list and numpy array\n",
    "python_list = ([[1., 2., 3.], [4., 5., 6.]])\n",
    "print(f'first element in 0 index: {python_list[0][0]}')  # use chained indexing. means two [][]\n",
    "print(f'first element in 0 index: {array2[0, 0]}')  # provide index and slice arguements in a single pair of []\n",
    "print(f'second to last column: {array2[:, 1:]}')  # first : means all the rows, 1: means from second column onwards\n",
    "\n",
    "np.random.randn(2, 3)\n",
    "np.zeros(10).reshape(2, 5)\n",
    "np.eye(10).reshape(20, 5)\n"
   ]
  },
  {
   "cell_type": "code",
   "execution_count": null,
   "metadata": {},
   "outputs": [],
   "source": [
    "import pandas as pd\n",
    "df = pd.read_excel('course_participants.xlsx')\n",
    "\n",
    "df.info()\n",
    "\n"
   ]
  }
 ],
 "metadata": {
  "kernelspec": {
   "display_name": "data",
   "language": "python",
   "name": "python3"
  },
  "language_info": {
   "codemirror_mode": {
    "name": "ipython",
    "version": 3
   },
   "file_extension": ".py",
   "mimetype": "text/x-python",
   "name": "python",
   "nbconvert_exporter": "python",
   "pygments_lexer": "ipython3",
   "version": "3.11.6"
  }
 },
 "nbformat": 4,
 "nbformat_minor": 2
}
