{
 "cells": [
  {
   "cell_type": "code",
   "execution_count": 1,
   "metadata": {},
   "outputs": [],
   "source": [
    "import sqlite3"
   ]
  },
  {
   "cell_type": "code",
   "execution_count": 2,
   "metadata": {},
   "outputs": [
    {
     "name": "stdout",
     "output_type": "stream",
     "text": [
      "DB Init\n",
      "SQLite Version is [('3.44.2',)]\n",
      "SQLite Connection closed\n"
     ]
    }
   ],
   "source": [
    "try:\n",
    "   \n",
    "    # Connect to DB and create a cursor\n",
    "    sqliteConnection = sqlite3.connect('sql.db')\n",
    "    cursor = sqliteConnection.cursor()\n",
    "    print('DB Init')\n",
    " \n",
    "    # Write a query and execute it with cursor\n",
    "    query = 'select sqlite_version();'\n",
    "    cursor.execute(query)\n",
    " \n",
    "    # Fetch and output result\n",
    "    result = cursor.fetchall()\n",
    "    print('SQLite Version is {}'.format(result))\n",
    " \n",
    "    # Close the cursor\n",
    "    cursor.close()\n",
    " \n",
    "# Handle errors\n",
    "except sqlite3.Error as error:\n",
    "    print('Error occurred - ', error)\n",
    " \n",
    "# Close DB Connection irrespective of success\n",
    "# or failure\n",
    "finally:\n",
    "    if sqliteConnection:\n",
    "        sqliteConnection.close()\n",
    "        print('SQLite Connection closed')"
   ]
  },
  {
   "cell_type": "code",
   "execution_count": null,
   "metadata": {},
   "outputs": [],
   "source": [
    "# Clean up"
   ]
  }
 ],
 "metadata": {
  "kernelspec": {
   "display_name": "data",
   "language": "python",
   "name": "python3"
  },
  "language_info": {
   "codemirror_mode": {
    "name": "ipython",
    "version": 3
   },
   "file_extension": ".py",
   "mimetype": "text/x-python",
   "name": "python",
   "nbconvert_exporter": "python",
   "pygments_lexer": "ipython3",
   "version": "3.11.7"
  },
  "orig_nbformat": 4
 },
 "nbformat": 4,
 "nbformat_minor": 2
}
